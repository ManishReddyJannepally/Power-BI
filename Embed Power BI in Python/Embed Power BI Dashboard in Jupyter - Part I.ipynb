{
 "cells": [
  {
   "cell_type": "code",
   "execution_count": 1,
   "id": "2750ec3d",
   "metadata": {},
   "outputs": [
    {
     "name": "stdout",
     "output_type": "stream",
     "text": [
      "A local browser window will be open for interactive sign in.\n",
      "You have logged in.\n",
      "Interactive authentication successfully completed.\n"
     ]
    }
   ],
   "source": [
    "workspace_id = \"4bc212c2-fb47-41dd-bb4c-95c4927ca2e8\" # give your workspace id here\n",
    "a_report_id = \"678f6aff-94f7-474d-815e-6e86f4560927\" # give your report id here\n",
    "\n",
    "# importing libs\n",
    "\n",
    "import requests\n",
    "from pandas.api.types import is_numeric_dtype\n",
    "import numpy as np\n",
    "import sys\n",
    "from powerbiclient import Report, models\n",
    "from io import StringIO\n",
    "from ipywidgets import interact\n",
    "import requests\n",
    "import pandas as pd\n",
    "from tabulate import tabulate\n",
    "\n",
    "# authentication\n",
    "\n",
    "from powerbiclient.authentication import InteractiveLoginAuthentication\n",
    "interactive_auth = InteractiveLoginAuthentication()\n",
    "token_with_redirect = interactive_auth.get_access_token()\n"
   ]
  },
  {
   "cell_type": "code",
   "execution_count": 4,
   "id": "43b5cec8",
   "metadata": {},
   "outputs": [
    {
     "data": {
      "application/vnd.jupyter.widget-view+json": {
       "model_id": "ea88e620426847c0b5dafa149f199df0",
       "version_major": 2,
       "version_minor": 0
      },
      "text/plain": [
       "Report()"
      ]
     },
     "metadata": {},
     "output_type": "display_data"
    }
   ],
   "source": [
    "# rendering the report\n",
    "\n",
    "a_report = Report(group_id=workspace_id, report_id=a_report_id, auth=interactive_auth)\n",
    "a_report"
   ]
  },
  {
   "cell_type": "code",
   "execution_count": 6,
   "id": "4b09cdae",
   "metadata": {},
   "outputs": [],
   "source": [
    "# functions\n",
    "\n",
    "def get_page_id(page_name, report_obj):\n",
    "    for page in report_obj.get_pages():\n",
    "        if page['displayName'] == str(page_name):\n",
    "            return(page['name'])\n",
    "        \n",
    "def get_visual_id(page_id, visual_name, report_obj):\n",
    "    for vis in report_obj.visuals_on_page(str(page_id)):\n",
    "        try:\n",
    "            if vis['title'] == str(visual_name):\n",
    "                return(vis['name'])\n",
    "        except:\n",
    "            pass\n",
    "        \n",
    "def get_visual_info(page_name, visual_name, report_obj):\n",
    "    page_id = get_page_id(str(page_name),report_obj)\n",
    "    visual_id = get_visual_id(page_id,str(visual_name),report_obj)\n",
    "    df = pd.read_csv(StringIO(report_obj.export_visual_data(str(page_id), str(visual_id))), sep=\",\")\n",
    "    return(df)"
   ]
  },
  {
   "cell_type": "code",
   "execution_count": 7,
   "id": "d8b3bcf7",
   "metadata": {},
   "outputs": [
    {
     "data": {
      "text/html": [
       "<div>\n",
       "<style scoped>\n",
       "    .dataframe tbody tr th:only-of-type {\n",
       "        vertical-align: middle;\n",
       "    }\n",
       "\n",
       "    .dataframe tbody tr th {\n",
       "        vertical-align: top;\n",
       "    }\n",
       "\n",
       "    .dataframe thead th {\n",
       "        text-align: right;\n",
       "    }\n",
       "</style>\n",
       "<table border=\"1\" class=\"dataframe\">\n",
       "  <thead>\n",
       "    <tr style=\"text-align: right;\">\n",
       "      <th></th>\n",
       "      <th>Executive Name</th>\n",
       "      <th># of Customers</th>\n",
       "      <th># of Products</th>\n",
       "      <th>YTD Revenue</th>\n",
       "      <th>YTD GM%</th>\n",
       "      <th>Sum of Taxes</th>\n",
       "      <th>YTD COGS</th>\n",
       "    </tr>\n",
       "  </thead>\n",
       "  <tbody>\n",
       "    <tr>\n",
       "      <th>0</th>\n",
       "      <td>Andrew Ma</td>\n",
       "      <td>49</td>\n",
       "      <td>5</td>\n",
       "      <td>$56753293</td>\n",
       "      <td>44.9%</td>\n",
       "      <td>$0</td>\n",
       "      <td>$31281630</td>\n",
       "    </tr>\n",
       "    <tr>\n",
       "      <th>1</th>\n",
       "      <td>Annelie Zubar</td>\n",
       "      <td>16</td>\n",
       "      <td>4</td>\n",
       "      <td>$45537726</td>\n",
       "      <td>37.8%</td>\n",
       "      <td>$64630</td>\n",
       "      <td>$28307134</td>\n",
       "    </tr>\n",
       "    <tr>\n",
       "      <th>2</th>\n",
       "      <td>Carlos Grilo</td>\n",
       "      <td>32</td>\n",
       "      <td>4</td>\n",
       "      <td>$45531663</td>\n",
       "      <td>38.5%</td>\n",
       "      <td>$0</td>\n",
       "      <td>$27999550</td>\n",
       "    </tr>\n",
       "    <tr>\n",
       "      <th>3</th>\n",
       "      <td>Tina Lassila</td>\n",
       "      <td>11</td>\n",
       "      <td>3</td>\n",
       "      <td>$17353347</td>\n",
       "      <td>53.8%</td>\n",
       "      <td>$0</td>\n",
       "      <td>$8009014</td>\n",
       "    </tr>\n",
       "    <tr>\n",
       "      <th>4</th>\n",
       "      <td>Valery Ushakov</td>\n",
       "      <td>9</td>\n",
       "      <td>2</td>\n",
       "      <td>$12321084</td>\n",
       "      <td>47.2%</td>\n",
       "      <td>$31680</td>\n",
       "      <td>$6499987</td>\n",
       "    </tr>\n",
       "  </tbody>\n",
       "</table>\n",
       "</div>"
      ],
      "text/plain": [
       "   Executive Name  # of Customers  # of Products YTD Revenue YTD GM%  \\\n",
       "0       Andrew Ma              49              5   $56753293   44.9%   \n",
       "1   Annelie Zubar              16              4   $45537726   37.8%   \n",
       "2    Carlos Grilo              32              4   $45531663   38.5%   \n",
       "3    Tina Lassila              11              3   $17353347   53.8%   \n",
       "4  Valery Ushakov               9              2   $12321084   47.2%   \n",
       "\n",
       "  Sum of Taxes   YTD COGS  \n",
       "0           $0  $31281630  \n",
       "1       $64630  $28307134  \n",
       "2           $0  $27999550  \n",
       "3           $0   $8009014  \n",
       "4       $31680   $6499987  "
      ]
     },
     "execution_count": 7,
     "metadata": {},
     "output_type": "execute_result"
    }
   ],
   "source": [
    "# extract data from visual\n",
    "\n",
    "a_page_name_1 = 'Team Scorecard'\n",
    "a_visual_name_1 = 'Scorecard by Executive'\n",
    "a_cols_1 = [\"Executive Name\", \"# of Customers\", \"# of Products\", \"YTD Revenue\", \"YTD GM%\", \"YTD COGS\", \"Sum of Taxes\"]\n",
    "\n",
    "\n",
    "a_df = get_visual_info(a_page_name_1, a_visual_name_1, a_report)\n",
    "a_df"
   ]
  },
  {
   "cell_type": "code",
   "execution_count": null,
   "id": "78be4c94",
   "metadata": {},
   "outputs": [],
   "source": []
  }
 ],
 "metadata": {
  "kernelspec": {
   "display_name": "Python 3",
   "language": "python",
   "name": "python3"
  },
  "language_info": {
   "codemirror_mode": {
    "name": "ipython",
    "version": 3
   },
   "file_extension": ".py",
   "mimetype": "text/x-python",
   "name": "python",
   "nbconvert_exporter": "python",
   "pygments_lexer": "ipython3",
   "version": "3.8.8"
  }
 },
 "nbformat": 4,
 "nbformat_minor": 5
}
